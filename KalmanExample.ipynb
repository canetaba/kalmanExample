{
 "cells": [
  {
   "cell_type": "code",
   "execution_count": 57,
   "metadata": {},
   "outputs": [
    {
     "name": "stdout",
     "output_type": "stream",
     "text": [
      "Mediciones  [[-33.47002411 -70.76208496]\n",
      " [-33.47002411 -70.76208496]\n",
      " [-33.47002411 -70.76208496]\n",
      " [-33.46651292 -70.76212375]\n",
      " [-33.46192169 -70.76361847]\n",
      " [-33.45545959 -70.76795959]\n",
      " [-33.44975281 -70.77442932]]\n",
      "                                  \n",
      "                                  \n",
      "Media del estado inicial  [-33.4700241088867, 40, -70.7620849609375, 40]\n",
      "                                  \n",
      "                                  \n",
      "media del estado smoothed  [[-3.79742113e+01  1.78876695e+01 -7.52661034e+01  1.78872905e+01]\n",
      " [-3.29010309e+01  4.87746763e+00 -7.01924073e+01  4.87513436e+00]\n",
      " [-3.28808719e+01  5.32921620e-03 -7.01731373e+01  1.39493157e-03]\n",
      " [-3.33241556e+01 -4.29849765e-01 -7.06200205e+01 -4.35879074e-01]\n",
      " [-3.34677684e+01 -1.37080877e-01 -7.07701022e+01 -1.45715604e-01]\n",
      " [-3.34707059e+01 -2.08647920e-03 -7.07832342e+01 -1.25131599e-02]\n",
      " [-3.34530712e+01  1.72207296e-02 -7.07772389e+01  6.39062289e-03]]\n",
      "                                  \n",
      "                                  \n",
      "covarianza del estado smoothed  [[[ 0.19582311 -0.0637611   0.16919849 -0.04883751]\n",
      "  [-0.0637611   0.25321815 -0.04884908  0.19396007]\n",
      "  [ 0.16919849 -0.04884908  0.19579737 -0.06375426]\n",
      "  [-0.04883751  0.19396007 -0.06375426  0.25322587]]\n",
      "\n",
      " [[ 4.48486076  4.11731284  4.43740528  4.12573869]\n",
      "  [ 4.11731284  5.96529182  4.12469953  5.86665414]\n",
      "  [ 4.43740528  4.12469953  4.48383528  4.11735171]\n",
      "  [ 4.12573869  5.86665414  4.11735171  5.96613046]]\n",
      "\n",
      " [[ 4.97080971  3.20405522  4.92010992  3.2113982 ]\n",
      "  [ 3.20405522  7.80437534  3.21038225  7.70300014]\n",
      "  [ 4.92010992  3.21038225  4.96992431  3.20374492]\n",
      "  [ 3.2113982   7.70300014  3.20374492  7.8057967 ]]\n",
      "\n",
      " [[ 4.97631721  3.17840329  4.92509145  3.18584699]\n",
      "  [ 3.17840329  8.20232338  3.18485496  8.10062431]\n",
      "  [ 4.92509145  3.18485496  4.97541674  3.17811352]\n",
      "  [ 3.18584699  8.10062431  3.17811352  8.2037758 ]]\n",
      "\n",
      " [[ 5.02822141  3.22014252  4.97658958  3.22851561]\n",
      "  [ 3.22014252  8.24151269  3.22757086  8.13733712]\n",
      "  [ 4.97658958  3.22757086  5.02733166  3.21984966]\n",
      "  [ 3.22851561  8.13733712  3.21984966  8.24284534]]\n",
      "\n",
      " [[ 5.1188755   3.22118656  5.06717913  3.2306567 ]\n",
      "  [ 3.22118656  8.2565009   3.2300055   8.1243427 ]\n",
      "  [ 5.06717913  3.2300055   5.11799921  3.22062744]\n",
      "  [ 3.2306567   8.1243427   3.22062744  8.25727754]]\n",
      "\n",
      " [[ 7.04954378  5.88444293  6.97994918  5.84204702]\n",
      "  [ 5.88444293 11.95249877  5.84071882 11.66681033]\n",
      "  [ 6.97994918  5.84071882  7.04867387  5.884845  ]\n",
      "  [ 5.84204702 11.66681033  5.884845   11.95633431]]]\n"
     ]
    },
    {
     "data": {
      "image/png": "[encoded data removed]",
      "text/plain": [
       "<Figure size 432x288 with 1 Axes>"
      ]
     },
     "metadata": {
      "needs_background": "light"
     },
     "output_type": "display_data"
    }
   ],
   "source": [
    "from pykalman import KalmanFilter\n",
    "import numpy as np\n",
    "import matplotlib.pyplot as plt\n",
    "import time\n",
    "\n",
    "\n",
    "measurements = np.asarray([(-33.4700241088867,-70.7620849609375),\n",
    "                           (-33.4700241088867,-70.7620849609375),\n",
    "                           (-33.4700241088867,-70.7620849609375),\n",
    "                           (-33.4665129182731,-70.7621237495235),\n",
    "                           (-33.4619216918945,-70.7636184692383),\n",
    "                           (-33.4554595947266,-70.7679595947266),\n",
    "                           (-33.4497528076172,-70.7744293212891)])\n",
    "\n",
    "print(\"Mediciones \", measurements)\n",
    "print (\"                                  \")\n",
    "print (\"                                  \")\n",
    "\n",
    "initial_state_mean = [measurements[0, 0],\n",
    "                      40,\n",
    "                      measurements[0, 1],\n",
    "                      40]\n",
    "\n",
    "print(\"Media del estado inicial \", initial_state_mean)\n",
    "print (\"                                  \")\n",
    "print (\"                                  \")\n",
    "\n",
    "transition_matrix = [[1, 1, 0, 0],\n",
    "                     [0, 1, 0, 0],\n",
    "                     [0, 0, 1, 1],\n",
    "                     [0, 0, 0, 1]]\n",
    "\n",
    "observation_matrix = [[1, 0, 0, 0],\n",
    "                      [0, 0, 1, 0]]\n",
    "\n",
    "kf1 = KalmanFilter(transition_matrices = transition_matrix,\n",
    "                  observation_matrices = observation_matrix,\n",
    "                  initial_state_mean = initial_state_mean)\n",
    "\n",
    "kf1 = kf1.em(measurements, n_iter=5)\n",
    "(smoothed_state_means, smoothed_state_covariances) = kf1.smooth(measurements)\n",
    " \n",
    "print (\"media del estado smoothed \" , smoothed_state_means)\n",
    "print (\"                                  \")\n",
    "print (\"                                  \")\n",
    "\n",
    "print (\"covarianza del estado smoothed \" ,smoothed_state_covariances)\n",
    "\n",
    "plt.figure(1)\n",
    "times = range(measurements.shape[0])\n",
    "plt.plot(times, measurements[:, 0], 'bo',\n",
    "         times, measurements[:, 1], 'ro',\n",
    "         times, smoothed_state_means[:, 0], 'b--',\n",
    "         times, smoothed_state_means[:, 2], 'r--',)\n",
    "plt.show()\n"
   ]
  },
  {
   "cell_type": "code",
   "execution_count": null,
   "metadata": {},
   "outputs": [],
   "source": []
  },
  {
   "cell_type": "code",
   "execution_count": null,
   "metadata": {},
   "outputs": [],
   "source": []
  }
 ],
 "metadata": {
  "kernelspec": {
   "display_name": "Python 3",
   "language": "python",
   "name": "python3"
  },
  "language_info": {
   "codemirror_mode": {
    "name": "ipython",
    "version": 3
   },
   "file_extension": ".py",
   "mimetype": "text/x-python",
   "name": "python",
   "nbconvert_exporter": "python",
   "pygments_lexer": "ipython3",
   "version": "3.7.3"
  }
 },
 "nbformat": 4,
 "nbformat_minor": 2
}
